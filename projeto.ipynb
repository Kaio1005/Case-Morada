{
 "cells": [
  {
   "cell_type": "markdown",
   "metadata": {},
   "source": [
    "# Importando bibliotecas"
   ]
  },
  {
   "cell_type": "code",
   "execution_count": 1,
   "metadata": {},
   "outputs": [],
   "source": [
    "import pandas as pd\n",
    "import google.generativeai as genai\n",
    "import os\n",
    "import time\n",
    "import re"
   ]
  },
  {
   "cell_type": "markdown",
   "metadata": {},
   "source": [
    "# Análise inicial"
   ]
  },
  {
   "cell_type": "code",
   "execution_count": 2,
   "metadata": {},
   "outputs": [
    {
     "data": {
      "text/html": [
       "<div>\n",
       "<style scoped>\n",
       "    .dataframe tbody tr th:only-of-type {\n",
       "        vertical-align: middle;\n",
       "    }\n",
       "\n",
       "    .dataframe tbody tr th {\n",
       "        vertical-align: top;\n",
       "    }\n",
       "\n",
       "    .dataframe thead th {\n",
       "        text-align: right;\n",
       "    }\n",
       "</style>\n",
       "<table border=\"1\" class=\"dataframe\">\n",
       "  <thead>\n",
       "    <tr style=\"text-align: right;\">\n",
       "      <th></th>\n",
       "      <th>id</th>\n",
       "      <th>conversa</th>\n",
       "    </tr>\n",
       "  </thead>\n",
       "  <tbody>\n",
       "    <tr>\n",
       "      <th>0</th>\n",
       "      <td>1</td>\n",
       "      <td>Assistente: Olá! Bem-vindo à Morada.ai. Como p...</td>\n",
       "    </tr>\n",
       "    <tr>\n",
       "      <th>1</th>\n",
       "      <td>2</td>\n",
       "      <td>Assistente: Olá! Seja bem-vindo à Morada.ai. C...</td>\n",
       "    </tr>\n",
       "    <tr>\n",
       "      <th>2</th>\n",
       "      <td>3</td>\n",
       "      <td>Assistente: Olá! Bem-vindo à Morada.ai. Como p...</td>\n",
       "    </tr>\n",
       "    <tr>\n",
       "      <th>3</th>\n",
       "      <td>4</td>\n",
       "      <td>Assistente: Olá! Bem-vindo à Morada.ai. Como p...</td>\n",
       "    </tr>\n",
       "    <tr>\n",
       "      <th>4</th>\n",
       "      <td>5</td>\n",
       "      <td>Assistente: Olá! Bem-vindo à Morada.ai. Como p...</td>\n",
       "    </tr>\n",
       "  </tbody>\n",
       "</table>\n",
       "</div>"
      ],
      "text/plain": [
       "   id                                           conversa\n",
       "0   1  Assistente: Olá! Bem-vindo à Morada.ai. Como p...\n",
       "1   2  Assistente: Olá! Seja bem-vindo à Morada.ai. C...\n",
       "2   3  Assistente: Olá! Bem-vindo à Morada.ai. Como p...\n",
       "3   4  Assistente: Olá! Bem-vindo à Morada.ai. Como p...\n",
       "4   5  Assistente: Olá! Bem-vindo à Morada.ai. Como p..."
      ]
     },
     "execution_count": 2,
     "metadata": {},
     "output_type": "execute_result"
    }
   ],
   "source": [
    "conversas = pd.read_csv(\"conversas_leads.csv\")\n",
    "conversas.head()"
   ]
  },
  {
   "cell_type": "code",
   "execution_count": 3,
   "metadata": {},
   "outputs": [
    {
     "data": {
      "text/plain": [
       "(10, 2)"
      ]
     },
     "execution_count": 3,
     "metadata": {},
     "output_type": "execute_result"
    }
   ],
   "source": [
    "conversas.shape"
   ]
  },
  {
   "cell_type": "code",
   "execution_count": 4,
   "metadata": {},
   "outputs": [
    {
     "data": {
      "text/html": [
       "<div>\n",
       "<style scoped>\n",
       "    .dataframe tbody tr th:only-of-type {\n",
       "        vertical-align: middle;\n",
       "    }\n",
       "\n",
       "    .dataframe tbody tr th {\n",
       "        vertical-align: top;\n",
       "    }\n",
       "\n",
       "    .dataframe thead th {\n",
       "        text-align: right;\n",
       "    }\n",
       "</style>\n",
       "<table border=\"1\" class=\"dataframe\">\n",
       "  <thead>\n",
       "    <tr style=\"text-align: right;\">\n",
       "      <th></th>\n",
       "      <th>id</th>\n",
       "      <th>nome</th>\n",
       "      <th>descricao</th>\n",
       "      <th>localizacao</th>\n",
       "      <th>valor</th>\n",
       "      <th>quartos</th>\n",
       "      <th>banheiros</th>\n",
       "      <th>area</th>\n",
       "      <th>vagas</th>\n",
       "      <th>caracteristicas</th>\n",
       "    </tr>\n",
       "  </thead>\n",
       "  <tbody>\n",
       "    <tr>\n",
       "      <th>0</th>\n",
       "      <td>1</td>\n",
       "      <td>Residencial Villa Verde</td>\n",
       "      <td>Condomínio fechado com apartamentos de alto pa...</td>\n",
       "      <td>Jardim Europa, São Paulo - SP</td>\n",
       "      <td>850000</td>\n",
       "      <td>3</td>\n",
       "      <td>2</td>\n",
       "      <td>120</td>\n",
       "      <td>2</td>\n",
       "      <td>Piscina, Academia, Salão de festas, Playground...</td>\n",
       "    </tr>\n",
       "    <tr>\n",
       "      <th>1</th>\n",
       "      <td>2</td>\n",
       "      <td>Edifício Sky Tower</td>\n",
       "      <td>Apartamentos modernos com vista panorâmica da ...</td>\n",
       "      <td>Centro, Rio de Janeiro - RJ</td>\n",
       "      <td>1200000</td>\n",
       "      <td>4</td>\n",
       "      <td>3</td>\n",
       "      <td>150</td>\n",
       "      <td>3</td>\n",
       "      <td>Vista panorâmica, Smart home, Varanda gourmet,...</td>\n",
       "    </tr>\n",
       "    <tr>\n",
       "      <th>2</th>\n",
       "      <td>3</td>\n",
       "      <td>Condomínio Solar das Palmeiras</td>\n",
       "      <td>Casas em condomínio fechado com amplos jardins...</td>\n",
       "      <td>Alphaville, Barueri - SP</td>\n",
       "      <td>1800000</td>\n",
       "      <td>4</td>\n",
       "      <td>4</td>\n",
       "      <td>250</td>\n",
       "      <td>4</td>\n",
       "      <td>Piscina privativa, Espaço gourmet, Jardim, Seg...</td>\n",
       "    </tr>\n",
       "    <tr>\n",
       "      <th>3</th>\n",
       "      <td>4</td>\n",
       "      <td>Residencial Brisa Mar</td>\n",
       "      <td>Apartamentos à beira-mar com vista privilegiad...</td>\n",
       "      <td>Beira Mar, Fortaleza - CE</td>\n",
       "      <td>950000</td>\n",
       "      <td>3</td>\n",
       "      <td>2</td>\n",
       "      <td>110</td>\n",
       "      <td>2</td>\n",
       "      <td>Vista para o mar, Varanda gourmet, Piscina, Sa...</td>\n",
       "    </tr>\n",
       "    <tr>\n",
       "      <th>4</th>\n",
       "      <td>5</td>\n",
       "      <td>Edifício Lumina</td>\n",
       "      <td>Apartamentos compactos e funcionais com design...</td>\n",
       "      <td>Pinheiros, São Paulo - SP</td>\n",
       "      <td>550000</td>\n",
       "      <td>2</td>\n",
       "      <td>1</td>\n",
       "      <td>65</td>\n",
       "      <td>1</td>\n",
       "      <td>Coworking, Lavanderia compartilhada, Bicicletá...</td>\n",
       "    </tr>\n",
       "  </tbody>\n",
       "</table>\n",
       "</div>"
      ],
      "text/plain": [
       "   id                            nome  \\\n",
       "0   1         Residencial Villa Verde   \n",
       "1   2              Edifício Sky Tower   \n",
       "2   3  Condomínio Solar das Palmeiras   \n",
       "3   4           Residencial Brisa Mar   \n",
       "4   5                 Edifício Lumina   \n",
       "\n",
       "                                           descricao  \\\n",
       "0  Condomínio fechado com apartamentos de alto pa...   \n",
       "1  Apartamentos modernos com vista panorâmica da ...   \n",
       "2  Casas em condomínio fechado com amplos jardins...   \n",
       "3  Apartamentos à beira-mar com vista privilegiad...   \n",
       "4  Apartamentos compactos e funcionais com design...   \n",
       "\n",
       "                     localizacao    valor  quartos  banheiros  area  vagas  \\\n",
       "0  Jardim Europa, São Paulo - SP   850000        3          2   120      2   \n",
       "1    Centro, Rio de Janeiro - RJ  1200000        4          3   150      3   \n",
       "2       Alphaville, Barueri - SP  1800000        4          4   250      4   \n",
       "3      Beira Mar, Fortaleza - CE   950000        3          2   110      2   \n",
       "4      Pinheiros, São Paulo - SP   550000        2          1    65      1   \n",
       "\n",
       "                                     caracteristicas  \n",
       "0  Piscina, Academia, Salão de festas, Playground...  \n",
       "1  Vista panorâmica, Smart home, Varanda gourmet,...  \n",
       "2  Piscina privativa, Espaço gourmet, Jardim, Seg...  \n",
       "3  Vista para o mar, Varanda gourmet, Piscina, Sa...  \n",
       "4  Coworking, Lavanderia compartilhada, Bicicletá...  "
      ]
     },
     "execution_count": 4,
     "metadata": {},
     "output_type": "execute_result"
    }
   ],
   "source": [
    "empreendimentos = pd.read_csv(\"empreendimentos.csv\")\n",
    "empreendimentos.head()"
   ]
  },
  {
   "cell_type": "code",
   "execution_count": 5,
   "metadata": {},
   "outputs": [
    {
     "data": {
      "text/plain": [
       "(20, 10)"
      ]
     },
     "execution_count": 5,
     "metadata": {},
     "output_type": "execute_result"
    }
   ],
   "source": [
    "empreendimentos.shape"
   ]
  },
  {
   "cell_type": "code",
   "execution_count": 6,
   "metadata": {},
   "outputs": [
    {
     "data": {
      "text/plain": [
       "Index(['id', 'nome', 'descricao', 'localizacao', 'valor', 'quartos',\n",
       "       'banheiros', 'area', 'vagas', 'caracteristicas'],\n",
       "      dtype='object')"
      ]
     },
     "execution_count": 6,
     "metadata": {},
     "output_type": "execute_result"
    }
   ],
   "source": [
    "empreendimentos.columns"
   ]
  },
  {
   "cell_type": "markdown",
   "metadata": {},
   "source": [
    "Após ter uma visão geral dos dois conjuntos de dados, e alguns testes, decidi seguir a implementação da primeira opção de projeto."
   ]
  },
  {
   "cell_type": "markdown",
   "metadata": {},
   "source": [
    "# Projeto\n",
    "\n",
    "Para o projeto vou implementar a opção 1:\n",
    "\n",
    "Extrator de Informações de Conversas: Desenvolva uma IA que extraia dados estruturados de conversas entre um assistente e um lead imobiliário.\n",
    "\n",
    "Para isso nosso código terá 3 partes centrais:\n",
    "\n",
    " 1- Extrair as informações do lead\n",
    "\n",
    " 2- Parser em regex para salvar em um dicionário\n",
    " \n",
    " 3- Transformar o dicionário em um .csv"
   ]
  },
  {
   "cell_type": "markdown",
   "metadata": {},
   "source": [
    "## Configurando Gemini"
   ]
  },
  {
   "cell_type": "code",
   "execution_count": 7,
   "metadata": {},
   "outputs": [],
   "source": [
    "# Configurando a chave da api\n",
    "genai.configure(api_key=os.getenv('GEMINI_API_KEY'))\n",
    "\n",
    "# Escolhendo o modelo\n",
    "model = genai.GenerativeModel('gemini-2.0-flash')"
   ]
  },
  {
   "cell_type": "markdown",
   "metadata": {},
   "source": [
    "## Definindo Funções"
   ]
  },
  {
   "cell_type": "code",
   "execution_count": null,
   "metadata": {},
   "outputs": [],
   "source": [
    "#Parte 1: Extração de informação do lead\n",
    "def extract_lead_info (model, lead):\n",
    "    prompt = f'Extraia da conversa a seguir as seguintes informações em uma lista: nome do cliente, e-mail de contato, telefone de contato, localização desejada do imóvel, orçamento(número decimal, use o formato em ingles, sem separador de milhar), número de quartos, número de banheiros, tamanho desejado, número de vagas na garagem, e outras características necessárias (retorne com esse nome) para o imóvel\\n\\n segue a conversa\\n\\n {lead}'\n",
    "    response = model.generate_content(prompt)\n",
    "\n",
    "    return response.text\n",
    "\n",
    "\n",
    "#Parte 2: Parser do retorno do modelo, para um dicionário\n",
    "def get_lead_needs (leads, model):\n",
    "    leads_dict = {}\n",
    "    lead_count = 0\n",
    "    for row in leads.iterrows():\n",
    "        lead_count+=1 #Contagem do id do lead\n",
    "\n",
    "        need = extract_lead_info(model, row[1]['conversa'])\n",
    "\n",
    "        regex = r\"\\*\\s*\\*\\*Nome do cliente:\\*\\*\\s*([^\\n*]+)\\s*\\*\\s*\\*\\*E-mail de contato:\\*\\*\\s*([^\\n*]+)\\s*\\*\\s*\\*\\*Telefone de contato:\\*\\*\\s*([^\\n*]+)\\s*\\*\\s*\\*\\*Localização desejada do imóvel:\\*\\*\\s*([^\\n*]+)\\s*\\*\\s*\\*\\*Orçamento:\\*\\*\\s*([^\\n*]+)\\s*\\*\\s*\\*\\*Número de quartos:\\*\\*\\s*([^\\n*]+)\\s*\\*\\s*\\*\\*Número de banheiros:\\*\\*\\s*([^\\n*]+)\\s*\\*\\s*\\*\\*Tamanho desejado:\\*\\*\\s*([^\\n*]+)\\s*\\*\\s*\\*\\*Número de vagas na garagem:\\*\\*\\s*([^\\n*]+)\\s*\\*\\s*\\*\\*Outras características necessárias:\\*\\*\\s*([^\\n*]+)\"\n",
    "        #O regex acima foi escrito com auxílio da página https://regex101.com/ para casar com o padrão retornado pelo modelo\n",
    "        matches = re.search(regex, need, flags=re.IGNORECASE)\n",
    "        leads_dict[lead_count] = {'Nome cliente' : matches.group(1).strip(),\n",
    "                                  'E-mail' : matches.group(2).strip(),\n",
    "                                  'Telefone' : matches.group(3).strip(),\n",
    "                                  'Local desejado' : matches.group(4).strip(),\n",
    "                                  'Orcamento' : matches.group(5).strip(),\n",
    "                                  'Quartos' : matches.group(6).strip(),\n",
    "                                  'Banheiros' : matches.group(7).strip(),\n",
    "                                  'Area' : matches.group(8).strip(),\n",
    "                                  'Vagas' : matches.group(9).strip(),\n",
    "                                  'Demais caracteristicas' : matches.group(10).strip()}\n",
    "        time.sleep(5) #Tempo de espera para não ser bloqueado pela API\n",
    "    return leads_dict"
   ]
  },
  {
   "cell_type": "code",
   "execution_count": 9,
   "metadata": {},
   "outputs": [],
   "source": [
    "leads_dict = get_lead_needs(conversas, model)"
   ]
  },
  {
   "cell_type": "code",
   "execution_count": null,
   "metadata": {},
   "outputs": [
    {
     "data": {
      "text/html": [
       "<div>\n",
       "<style scoped>\n",
       "    .dataframe tbody tr th:only-of-type {\n",
       "        vertical-align: middle;\n",
       "    }\n",
       "\n",
       "    .dataframe tbody tr th {\n",
       "        vertical-align: top;\n",
       "    }\n",
       "\n",
       "    .dataframe thead th {\n",
       "        text-align: right;\n",
       "    }\n",
       "</style>\n",
       "<table border=\"1\" class=\"dataframe\">\n",
       "  <thead>\n",
       "    <tr style=\"text-align: right;\">\n",
       "      <th></th>\n",
       "      <th>Nome cliente</th>\n",
       "      <th>E-mail</th>\n",
       "      <th>Telefone</th>\n",
       "      <th>Local desejado</th>\n",
       "      <th>Orcamento</th>\n",
       "      <th>Quartos</th>\n",
       "      <th>Banheiros</th>\n",
       "      <th>Area</th>\n",
       "      <th>Vagas</th>\n",
       "      <th>Demais caracteristicas</th>\n",
       "    </tr>\n",
       "  </thead>\n",
       "  <tbody>\n",
       "    <tr>\n",
       "      <th>1</th>\n",
       "      <td>Carlos Eduardo Silva</td>\n",
       "      <td>carlos.silva@email.com</td>\n",
       "      <td>(11) 98765-4321</td>\n",
       "      <td>Pinheiros ou Vila Madalena (São Paulo)</td>\n",
       "      <td>800000.00</td>\n",
       "      <td>2</td>\n",
       "      <td>Não especificado</td>\n",
       "      <td>Não especificado</td>\n",
       "      <td>Pelo menos 1</td>\n",
       "      <td>Próximo ao metrô, espaço para escritório (devi...</td>\n",
       "    </tr>\n",
       "    <tr>\n",
       "      <th>2</th>\n",
       "      <td>Ana Paula Mendes</td>\n",
       "      <td>ana.mendes@email.com</td>\n",
       "      <td>(11) 97654-3210</td>\n",
       "      <td>Alphaville ou Granja Viana</td>\n",
       "      <td>2000000.00</td>\n",
       "      <td>4</td>\n",
       "      <td>(Não especificado na conversa)</td>\n",
       "      <td>(Não especificado na conversa)</td>\n",
       "      <td>(Não especificado na conversa)</td>\n",
       "      <td>Piscina, proximidade a boas escolas.</td>\n",
       "    </tr>\n",
       "    <tr>\n",
       "      <th>3</th>\n",
       "      <td>Roberto Almeida</td>\n",
       "      <td>roberto.almeida@email.com</td>\n",
       "      <td>(48) 98877-6655</td>\n",
       "      <td>Florianópolis, região central ou próximo às pr...</td>\n",
       "      <td>500000.00</td>\n",
       "      <td>1 ou studio</td>\n",
       "      <td>Não especificado</td>\n",
       "      <td>Não especificado</td>\n",
       "      <td>Não especificado</td>\n",
       "      <td>Imóvel para investimento, preferência para alu...</td>\n",
       "    </tr>\n",
       "    <tr>\n",
       "      <th>4</th>\n",
       "      <td>Marcelo Gomes</td>\n",
       "      <td>marcelo.gomes@email.com</td>\n",
       "      <td>(31) 99988-7766</td>\n",
       "      <td>Belo Horizonte, Savassi</td>\n",
       "      <td>3500.00</td>\n",
       "      <td>3</td>\n",
       "      <td>Não especificado</td>\n",
       "      <td>Não especificado</td>\n",
       "      <td>Pelo menos 1</td>\n",
       "      <td>Academia no prédio, proximidade à PUC, disponi...</td>\n",
       "    </tr>\n",
       "    <tr>\n",
       "      <th>5</th>\n",
       "      <td>Fernando Costa</td>\n",
       "      <td>fernando.costa@email.com</td>\n",
       "      <td>(11) 96655-4433</td>\n",
       "      <td>Atibaia ou Bragança Paulista</td>\n",
       "      <td>400000.00</td>\n",
       "      <td>Não especificado</td>\n",
       "      <td>Não especificado</td>\n",
       "      <td>Pelo menos 1000 m²</td>\n",
       "      <td>Não especificado</td>\n",
       "      <td>Em condomínio fechado, com vista bonita.</td>\n",
       "    </tr>\n",
       "  </tbody>\n",
       "</table>\n",
       "</div>"
      ],
      "text/plain": [
       "           Nome cliente                     E-mail         Telefone  \\\n",
       "1  Carlos Eduardo Silva     carlos.silva@email.com  (11) 98765-4321   \n",
       "2      Ana Paula Mendes       ana.mendes@email.com  (11) 97654-3210   \n",
       "3       Roberto Almeida  roberto.almeida@email.com  (48) 98877-6655   \n",
       "4         Marcelo Gomes    marcelo.gomes@email.com  (31) 99988-7766   \n",
       "5        Fernando Costa   fernando.costa@email.com  (11) 96655-4433   \n",
       "\n",
       "                                      Local desejado   Orcamento  \\\n",
       "1             Pinheiros ou Vila Madalena (São Paulo)   800000.00   \n",
       "2                         Alphaville ou Granja Viana  2000000.00   \n",
       "3  Florianópolis, região central ou próximo às pr...   500000.00   \n",
       "4                            Belo Horizonte, Savassi     3500.00   \n",
       "5                       Atibaia ou Bragança Paulista   400000.00   \n",
       "\n",
       "            Quartos                       Banheiros  \\\n",
       "1                 2                Não especificado   \n",
       "2                 4  (Não especificado na conversa)   \n",
       "3       1 ou studio                Não especificado   \n",
       "4                 3                Não especificado   \n",
       "5  Não especificado                Não especificado   \n",
       "\n",
       "                             Area                           Vagas  \\\n",
       "1                Não especificado                    Pelo menos 1   \n",
       "2  (Não especificado na conversa)  (Não especificado na conversa)   \n",
       "3                Não especificado                Não especificado   \n",
       "4                Não especificado                    Pelo menos 1   \n",
       "5              Pelo menos 1000 m²                Não especificado   \n",
       "\n",
       "                              Demais caracteristicas  \n",
       "1  Próximo ao metrô, espaço para escritório (devi...  \n",
       "2               Piscina, proximidade a boas escolas.  \n",
       "3  Imóvel para investimento, preferência para alu...  \n",
       "4  Academia no prédio, proximidade à PUC, disponi...  \n",
       "5           Em condomínio fechado, com vista bonita.  "
      ]
     },
     "execution_count": 10,
     "metadata": {},
     "output_type": "execute_result"
    }
   ],
   "source": [
    "#Parte 3: Transformação do dicionário em um arquivo .csv\n",
    "df_leads_info = pd.DataFrame.from_dict(leads_dict, orient = 'index')\n",
    "df_leads_info.head()"
   ]
  },
  {
   "cell_type": "code",
   "execution_count": 11,
   "metadata": {},
   "outputs": [],
   "source": [
    "df_leads_info.to_csv(\"Leads_info.csv\")"
   ]
  }
 ],
 "metadata": {
  "kernelspec": {
   "display_name": "TesteMoradaai",
   "language": "python",
   "name": "python3"
  },
  "language_info": {
   "codemirror_mode": {
    "name": "ipython",
    "version": 3
   },
   "file_extension": ".py",
   "mimetype": "text/x-python",
   "name": "python",
   "nbconvert_exporter": "python",
   "pygments_lexer": "ipython3",
   "version": "3.13.2"
  }
 },
 "nbformat": 4,
 "nbformat_minor": 2
}
